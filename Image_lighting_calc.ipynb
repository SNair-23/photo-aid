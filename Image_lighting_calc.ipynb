{
  "nbformat": 4,
  "nbformat_minor": 0,
  "metadata": {
    "colab": {
      "provenance": [],
      "collapsed_sections": [
        "jDbyvyGI_3t7",
        "EiO-ossQ_zWl"
      ]
    },
    "kernelspec": {
      "name": "python3",
      "display_name": "Python 3"
    },
    "language_info": {
      "name": "python"
    }
  },
  "cells": [
    {
      "cell_type": "markdown",
      "source": [
        "### Imports"
      ],
      "metadata": {
        "id": "jDbyvyGI_3t7"
      }
    },
    {
      "cell_type": "code",
      "execution_count": 57,
      "metadata": {
        "id": "S_kNphCgTkqf"
      },
      "outputs": [],
      "source": [
        "import numpy as np\n",
        "import pandas as pd\n",
        "import matplotlib.pyplot as plt\n",
        "import os, cv2\n",
        "from google.colab import drive\n"
      ]
    },
    {
      "cell_type": "markdown",
      "source": [
        "### #Find an alternative approach to opening/uploading img file"
      ],
      "metadata": {
        "id": "QClj4Cy_8xqQ"
      }
    },
    {
      "cell_type": "code",
      "source": [
        "# Mount Google Drive\n",
        "drive.mount('/content/drive')"
      ],
      "metadata": {
        "colab": {
          "base_uri": "https://localhost:8080/"
        },
        "id": "T9EwuTtpa4U9",
        "outputId": "362ca707-9ef7-4e16-db99-478e4a592b3e"
      },
      "execution_count": 58,
      "outputs": [
        {
          "output_type": "stream",
          "name": "stdout",
          "text": [
            "Drive already mounted at /content/drive; to attempt to forcibly remount, call drive.mount(\"/content/drive\", force_remount=True).\n"
          ]
        }
      ]
    },
    {
      "cell_type": "code",
      "source": [
        "image_folder = '/content/drive/MyDrive/My-imgs'"
      ],
      "metadata": {
        "id": "tnJJgPS9tlaU"
      },
      "execution_count": 59,
      "outputs": []
    },
    {
      "cell_type": "markdown",
      "source": [],
      "metadata": {
        "id": "WxBtUmhl8tqa"
      }
    },
    {
      "cell_type": "markdown",
      "source": [
        "## Assign Lighting Score"
      ],
      "metadata": {
        "id": "AX36XibQURdV"
      }
    },
    {
      "cell_type": "code",
      "source": [
        "def calc_weighted_sum(image):\n",
        "    lab = cv2.cvtColor(image, cv2.COLOR_BGR2LAB)\n",
        "    l = lab[:, :, 0].astype(np.float32)/255\n",
        "    perception = l.mean()\n",
        "    shadow     = (l < 0.15).mean() #the avg l-values of the number of pixels w/l value < 15%\n",
        "    highlight  = (l > 0.85).mean() #the avg l-values of the number of pixels w/l value > 85%\n",
        "    score = perception - shadow + highlight*0.15\n",
        "    return perception, shadow, highlight, score\n",
        "\n",
        "print(\"Lighting score (P - (S+H)): \", calc_weighted_sum(img))\n"
      ],
      "metadata": {
        "id": "Exvb48LjUkmV",
        "colab": {
          "base_uri": "https://localhost:8080/"
        },
        "outputId": "b7d6679e-242d-416e-d85a-65cca09ad1ec"
      },
      "execution_count": 60,
      "outputs": [
        {
          "output_type": "stream",
          "name": "stdout",
          "text": [
            "Lighting score (P - (S+H)):  (np.float32(0.6877265), np.float64(0.00020645112090714784), np.float64(0.05353273752152739), np.float64(0.6955499571574685))\n"
          ]
        }
      ]
    },
    {
      "cell_type": "markdown",
      "source": [
        "### Try to make the score more accurate of the lighting and easier to work with"
      ],
      "metadata": {
        "id": "VX7ToSIG_edT"
      }
    },
    {
      "cell_type": "markdown",
      "source": [
        "## Next: Create CSV file to include all images and their *scores*"
      ],
      "metadata": {
        "id": "EiO-ossQ_zWl"
      }
    },
    {
      "cell_type": "markdown",
      "source": [],
      "metadata": {
        "id": "rLA7jHwu_0QH"
      }
    },
    {
      "cell_type": "code",
      "source": [
        "import csv\n",
        "data = [] #to-be a dictionary containing info to store in csv\n",
        "def write_dict(filename):\n",
        "      img = cv2.imread(os.path.join(image_folder, filename)) #reads the image from filename\n",
        "      if img is not None:\n",
        "        size = img.shape #(px, px, color channel)\n",
        "        perception, shadow, highlight, score = calc_weighted_sum(img)\n",
        "        data.append(\n",
        "            {'Filename': filename, 'Size': size, 'Perception': perception, 'Shadow': shadow, 'Highlight': highlight, 'Score': score}\n",
        "        )\n",
        "      else:\n",
        "        print(f\"Warning: Could not read image file: {filename}\")\n",
        "      return data\n",
        "for filename in os.listdir(image_folder): #iterates through each file in the drive folder\n",
        "  write_dict(filename)\n",
        "print(data)"
      ],
      "metadata": {
        "colab": {
          "base_uri": "https://localhost:8080/"
        },
        "id": "y0vr2eQcZnLr",
        "outputId": "02670b54-d709-4188-cd33-80aee6b179fd"
      },
      "execution_count": 63,
      "outputs": [
        {
          "output_type": "stream",
          "name": "stdout",
          "text": [
            "[{'Filename': '20250615_141926.jpg', 'Size': (4000, 1848, 3), 'Perception': np.float32(0.5088547), 'Shadow': np.float64(0.047297348484848484), 'Highlight': np.float64(0.037229843073593075), 'Score': np.float64(0.4671418151900882)}, {'Filename': '20241031_210300.jpg', 'Size': (3392, 1908, 3), 'Perception': np.float32(0.15528789), 'Shadow': np.float64(0.684628834401329), 'Highlight': np.float64(4.8517167042442944e-05), 'Score': np.float64(-0.5293336651999146)}, {'Filename': '20240917_143309.jpg', 'Size': (2558, 2922, 3), 'Perception': np.float32(0.19142434), 'Shadow': np.float64(0.4545490546762074), 'Highlight': np.float64(0.003521986022832905), 'Score': np.float64(-0.2625964167630931)}, {'Filename': '20240907_142847.jpg', 'Size': (2992, 2516, 3), 'Perception': np.float32(0.3851754), 'Shadow': np.float64(0.17788254104214313), 'Highlight': np.float64(0.005191506975676526), 'Score': np.float64(0.20807159193703917)}, {'Filename': '20240907_184341.jpg', 'Size': (2992, 2992, 3), 'Perception': np.float32(0.25429887), 'Shadow': np.float64(0.49007223362120733), 'Highlight': np.float64(0.015754243937487488), 'Score': np.float64(-0.2334102312354487)}, {'Filename': '20250524_195551.jpg', 'Size': (4000, 1848, 3), 'Perception': np.float32(0.416996), 'Shadow': np.float64(0.27563433441558444), 'Highlight': np.float64(0.09583455086580087), 'Score': np.float64(0.15573685041155133)}, {'Filename': '20240928_223149.jpg', 'Size': (2938, 2600, 3), 'Perception': np.float32(0.51149625), 'Shadow': np.float64(0.03630242970100016), 'Highlight': np.float64(0.051147431533748754), 'Score': np.float64(0.4828659308901156)}, {'Filename': '20240907_141844.jpg', 'Size': (2992, 2992, 3), 'Perception': np.float32(0.5058712), 'Shadow': np.float64(0.023944757320769824), 'Highlight': np.float64(0.07342708899310818), 'Score': np.float64(0.4929404827478619)}, {'Filename': '20240907_094525.jpg', 'Size': (2992, 2992, 3), 'Perception': np.float32(0.61922365), 'Shadow': np.float64(0.03338704906488604), 'Highlight': np.float64(0.09359249442363236), 'Score': np.float64(0.599875479368831)}, {'Filename': '20241018_205719.jpg', 'Size': (2992, 2992, 3), 'Perception': np.float32(0.19612561), 'Shadow': np.float64(0.4421391536074809), 'Highlight': np.float64(0.006044081007463753), 'Score': np.float64(-0.24510692979349666)}, {'Filename': '20250307_112143.jpg', 'Size': (4000, 1848, 3), 'Perception': np.float32(0.4613763), 'Shadow': np.float64(0.12440165043290043), 'Highlight': np.float64(0.03478869047619047), 'Score': np.float64(0.34219296253336456)}]\n"
          ]
        }
      ]
    },
    {
      "cell_type": "code",
      "source": [
        "with open('image-lightings.csv', 'w', newline='') as csvfile: #new csv file\n",
        "    fieldnames = ['Filename', 'Size', 'Perception', 'Shadow', 'Highlight', 'Score'] #columns\n",
        "    writer = csv.DictWriter(csvfile, fieldnames=fieldnames)\n",
        "    writer.writeheader()\n",
        "    writer.writerows(data)\n",
        "\n",
        "df = pd.read_csv('image-lightings.csv')\n",
        "print(df.to_string()) #prints the csv file"
      ],
      "metadata": {
        "colab": {
          "base_uri": "https://localhost:8080/"
        },
        "id": "H5kjF-mpdFWW",
        "outputId": "20b42f5c-227b-45a5-da99-294a32e4f5c0"
      },
      "execution_count": 64,
      "outputs": [
        {
          "output_type": "stream",
          "name": "stdout",
          "text": [
            "               Filename             Size  Perception    Shadow  Highlight     Score\n",
            "0   20250615_141926.jpg  (4000, 1848, 3)    0.508855  0.047297   0.037230  0.467142\n",
            "1   20241031_210300.jpg  (3392, 1908, 3)    0.155288  0.684629   0.000049 -0.529334\n",
            "2   20240917_143309.jpg  (2558, 2922, 3)    0.191424  0.454549   0.003522 -0.262596\n",
            "3   20240907_142847.jpg  (2992, 2516, 3)    0.385175  0.177883   0.005192  0.208072\n",
            "4   20240907_184341.jpg  (2992, 2992, 3)    0.254299  0.490072   0.015754 -0.233410\n",
            "5   20250524_195551.jpg  (4000, 1848, 3)    0.416996  0.275634   0.095835  0.155737\n",
            "6   20240928_223149.jpg  (2938, 2600, 3)    0.511496  0.036302   0.051147  0.482866\n",
            "7   20240907_141844.jpg  (2992, 2992, 3)    0.505871  0.023945   0.073427  0.492940\n",
            "8   20240907_094525.jpg  (2992, 2992, 3)    0.619224  0.033387   0.093592  0.599875\n",
            "9   20241018_205719.jpg  (2992, 2992, 3)    0.196126  0.442139   0.006044 -0.245107\n",
            "10  20250307_112143.jpg  (4000, 1848, 3)    0.461376  0.124402   0.034789  0.342193\n"
          ]
        }
      ]
    },
    {
      "cell_type": "code",
      "source": [],
      "metadata": {
        "id": "mD-lt9KP1PCz"
      },
      "execution_count": null,
      "outputs": []
    }
  ]
}