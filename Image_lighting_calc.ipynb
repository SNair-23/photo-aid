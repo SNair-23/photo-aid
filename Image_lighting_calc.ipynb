{
  "nbformat": 4,
  "nbformat_minor": 0,
  "metadata": {
    "colab": {
      "provenance": [],
      "collapsed_sections": [
        "jDbyvyGI_3t7",
        "EiO-ossQ_zWl"
      ]
    },
    "kernelspec": {
      "name": "python3",
      "display_name": "Python 3"
    },
    "language_info": {
      "name": "python"
    }
  },
  "cells": [
    {
      "cell_type": "markdown",
      "source": [
        "### Imports"
      ],
      "metadata": {
        "id": "jDbyvyGI_3t7"
      }
    },
    {
      "cell_type": "code",
      "execution_count": 6,
      "metadata": {
        "id": "S_kNphCgTkqf"
      },
      "outputs": [],
      "source": [
        "import numpy as np\n",
        "import pandas as pd\n",
        "import matplotlib.pyplot as plt\n",
        "import os, cv2\n",
        "from google.colab import drive\n"
      ]
    },
    {
      "cell_type": "markdown",
      "source": [
        "### Google Drive set-up"
      ],
      "metadata": {
        "id": "_dsO182iuaBE"
      }
    },
    {
      "cell_type": "code",
      "source": [
        "# Mount Google Drive\n",
        "drive.mount('/content/drive')"
      ],
      "metadata": {
        "colab": {
          "base_uri": "https://localhost:8080/"
        },
        "id": "T9EwuTtpa4U9",
        "outputId": "2b64ac83-c501-409b-a35e-6c0511e1aded"
      },
      "execution_count": 7,
      "outputs": [
        {
          "output_type": "stream",
          "name": "stdout",
          "text": [
            "Drive already mounted at /content/drive; to attempt to forcibly remount, call drive.mount(\"/content/drive\", force_remount=True).\n"
          ]
        }
      ]
    },
    {
      "cell_type": "code",
      "source": [
        "image_folder = '/content/drive/MyDrive/Unsplash-imgs'"
      ],
      "metadata": {
        "id": "tnJJgPS9tlaU"
      },
      "execution_count": 8,
      "outputs": []
    },
    {
      "cell_type": "markdown",
      "source": [],
      "metadata": {
        "id": "WxBtUmhl8tqa"
      }
    },
    {
      "cell_type": "markdown",
      "source": [
        "## Assign Lighting Score"
      ],
      "metadata": {
        "id": "AX36XibQURdV"
      }
    },
    {
      "cell_type": "code",
      "source": [
        "def calc_weighted_sum(image):\n",
        "    lab = cv2.cvtColor(image, cv2.COLOR_BGR2LAB)\n",
        "    l = lab[:, :, 0].astype(np.float32)/255\n",
        "    perception = l.mean()\n",
        "    shadow     = (l < 0.15).mean() #the avg l-values of the number of pixels w/l value < 15%\n",
        "    highlight  = (l > 0.85).mean() #the avg l-values of the number of pixels w/l value > 85%\n",
        "    score = perception - shadow + highlight*0.15 #-1(dark) ---- 1(bright)\n",
        "    return perception, shadow, highlight, score\n",
        "\n"
      ],
      "metadata": {
        "id": "Exvb48LjUkmV"
      },
      "execution_count": 9,
      "outputs": []
    },
    {
      "cell_type": "markdown",
      "source": [
        "Note - Try to make the score more accurate of the lighting and easier to work with"
      ],
      "metadata": {
        "id": "VX7ToSIG_edT"
      }
    },
    {
      "cell_type": "markdown",
      "source": [
        "## Next: Create CSV file to include all images and their *scores*"
      ],
      "metadata": {
        "id": "EiO-ossQ_zWl"
      }
    },
    {
      "cell_type": "code",
      "source": [
        "import csv\n",
        "data = [] #to-be a dictionary containing info to store in csv\n",
        "def write_dict(filename):\n",
        "      img = cv2.imread(os.path.join(image_folder, filename)) #reads the image from filename\n",
        "      if img is not None:\n",
        "        size = img.shape #(px, px, color channel)\n",
        "        perception, shadow, highlight, score = calc_weighted_sum(img)\n",
        "        data.append(\n",
        "            {'Filename': filename, 'Size': size, 'Perception': perception, 'Shadow': shadow, 'Highlight': highlight, 'Score': score}\n",
        "        )\n",
        "      else:\n",
        "        print(f\"Warning: Could not read image file: {filename}\")\n",
        "      return data\n",
        "for filename in os.listdir(image_folder): #iterates through each file in the drive folder\n",
        "  write_dict(filename)\n",
        "print(data)"
      ],
      "metadata": {
        "colab": {
          "base_uri": "https://localhost:8080/"
        },
        "id": "y0vr2eQcZnLr",
        "outputId": "05057093-b90a-4b5d-ee34-47f73e727070"
      },
      "execution_count": 10,
      "outputs": [
        {
          "output_type": "stream",
          "name": "stdout",
          "text": [
            "[{'Filename': 'bright-sky-img.jpg', 'Size': (1333, 2000, 3), 'Perception': np.float32(0.88188916), 'Shadow': np.float64(0.006882970742685671), 'Highlight': np.float64(0.7876219054763691), 'Score': np.float64(0.9931494795265542)}, {'Filename': 'night-sky-img.jpg', 'Size': (3376, 6000, 3), 'Perception': np.float32(0.00751835), 'Shadow': np.float64(0.9958293345181675), 'Highlight': np.float64(0.0006495359399684045), 'Score': np.float64(-0.9882135539804613)}, {'Filename': 'very-bright-img.jpg', 'Size': (6240, 4160, 3), 'Perception': np.float32(0.85878026), 'Shadow': np.float64(0.0), 'Highlight': np.float64(0.6084724790433925), 'Score': np.float64(0.95005113671094)}, {'Filename': 'beach-img.jpg', 'Size': (3967, 5950, 3), 'Perception': np.float32(0.6877265), 'Shadow': np.float64(0.00020645112090714784), 'Highlight': np.float64(0.05353273752152739), 'Score': np.float64(0.6955499571574685)}, {'Filename': 'manny-moreno-lZBoG3zMYbc-unsplash.jpg', 'Size': (4680, 3744, 3), 'Perception': np.float32(0.47632018), 'Shadow': np.float64(0.01868516692234641), 'Highlight': np.float64(0.11727424848418438), 'Score': np.float64(0.47522614766694693)}, {'Filename': 'blake-cheek-UoPsuln0Etg-unsplash.jpg', 'Size': (5760, 3840, 3), 'Perception': np.float32(0.6054451), 'Shadow': np.float64(0.1542397732204861), 'Highlight': np.float64(0.37831172236689814), 'Score': np.float64(0.5079520720905728)}, {'Filename': 'marie-michele-bouchard-bEZQWH49daU-unsplash.jpg', 'Size': (5509, 4000, 3), 'Perception': np.float32(0.61744875), 'Shadow': np.float64(0.1088284171355963), 'Highlight': np.float64(0.31769245779633326), 'Score': np.float64(0.5562741986919042)}, {'Filename': 'omid-armin-6G2G6_rq-B0-unsplash.jpg', 'Size': (6000, 4000, 3), 'Perception': np.float32(0.19569348), 'Shadow': np.float64(0.532827), 'Highlight': np.float64(0.0009862083333333333), 'Score': np.float64(-0.33698559076175694)}, {'Filename': 'vikram-YvYwB8VALhU-unsplash.jpg', 'Size': (5472, 3648, 3), 'Perception': np.float32(0.20160529), 'Shadow': np.float64(0.5739389663967118), 'Highlight': np.float64(0.0012941181421206524), 'Score': np.float64(-0.37213955850090946)}, {'Filename': 'tim-zankert-Sq0HmprYPHk-unsplash.jpg', 'Size': (5472, 3648, 3), 'Perception': np.float32(0.60995674), 'Shadow': np.float64(0.029238613884400327), 'Highlight': np.float64(0.18656196097196573), 'Score': np.float64(0.6087024215944024)}, {'Filename': 'roman-melnychuk-Q7MrtHgiN-U-unsplash.jpg', 'Size': (5184, 3456, 3), 'Perception': np.float32(0.6290414), 'Shadow': np.float64(0.11074244425511545), 'Highlight': np.float64(0.2371193214699074), 'Score': np.float64(0.5538668276950764)}, {'Filename': 'tarikul-raana-YiG7BqusLc0-unsplash.jpg', 'Size': (6000, 4000, 3), 'Perception': np.float32(0.45850676), 'Shadow': np.float64(0.116763375), 'Highlight': np.float64(0.00039770833333333336), 'Score': np.float64(0.3418030442314148)}, {'Filename': 'behrouz-sasani-1B22UBPK1Pw-unsplash.jpg', 'Size': (2500, 2000, 3), 'Perception': np.float32(0.64128995), 'Shadow': np.float64(0.0137772), 'Highlight': np.float64(0.0557556), 'Score': np.float64(0.6358760894171143)}]\n"
          ]
        }
      ]
    },
    {
      "cell_type": "code",
      "source": [
        "with open('image-lightings.csv', 'w', newline='') as csvfile: #new csv file\n",
        "    fieldnames = ['Filename', 'Size', 'Perception', 'Shadow', 'Highlight', 'Score'] #columns\n",
        "    writer = csv.DictWriter(csvfile, fieldnames=fieldnames)\n",
        "    writer.writeheader()\n",
        "    writer.writerows(data)\n",
        "\n",
        "df = pd.read_csv('image-lightings.csv')\n",
        "print(df.to_string()) #prints the csv file"
      ],
      "metadata": {
        "colab": {
          "base_uri": "https://localhost:8080/"
        },
        "id": "H5kjF-mpdFWW",
        "outputId": "370941c0-7457-4db5-db6b-e7c6b69ab114"
      },
      "execution_count": 11,
      "outputs": [
        {
          "output_type": "stream",
          "name": "stdout",
          "text": [
            "                                           Filename             Size  Perception    Shadow  Highlight     Score\n",
            "0                                bright-sky-img.jpg  (1333, 2000, 3)    0.881889  0.006883   0.787622  0.993149\n",
            "1                                 night-sky-img.jpg  (3376, 6000, 3)    0.007518  0.995829   0.000650 -0.988214\n",
            "2                               very-bright-img.jpg  (6240, 4160, 3)    0.858780  0.000000   0.608472  0.950051\n",
            "3                                     beach-img.jpg  (3967, 5950, 3)    0.687727  0.000206   0.053533  0.695550\n",
            "4             manny-moreno-lZBoG3zMYbc-unsplash.jpg  (4680, 3744, 3)    0.476320  0.018685   0.117274  0.475226\n",
            "5              blake-cheek-UoPsuln0Etg-unsplash.jpg  (5760, 3840, 3)    0.605445  0.154240   0.378312  0.507952\n",
            "6   marie-michele-bouchard-bEZQWH49daU-unsplash.jpg  (5509, 4000, 3)    0.617449  0.108828   0.317692  0.556274\n",
            "7               omid-armin-6G2G6_rq-B0-unsplash.jpg  (6000, 4000, 3)    0.195693  0.532827   0.000986 -0.336986\n",
            "8                   vikram-YvYwB8VALhU-unsplash.jpg  (5472, 3648, 3)    0.201605  0.573939   0.001294 -0.372140\n",
            "9              tim-zankert-Sq0HmprYPHk-unsplash.jpg  (5472, 3648, 3)    0.609957  0.029239   0.186562  0.608702\n",
            "10         roman-melnychuk-Q7MrtHgiN-U-unsplash.jpg  (5184, 3456, 3)    0.629041  0.110742   0.237119  0.553867\n",
            "11           tarikul-raana-YiG7BqusLc0-unsplash.jpg  (6000, 4000, 3)    0.458507  0.116763   0.000398  0.341803\n",
            "12          behrouz-sasani-1B22UBPK1Pw-unsplash.jpg  (2500, 2000, 3)    0.641290  0.013777   0.055756  0.635876\n"
          ]
        }
      ]
    }
  ]
}