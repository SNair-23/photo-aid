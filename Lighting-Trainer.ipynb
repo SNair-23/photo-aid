{
  "nbformat": 4,
  "nbformat_minor": 0,
  "metadata": {
    "colab": {
      "provenance": []
    },
    "kernelspec": {
      "name": "python3",
      "display_name": "Python 3"
    },
    "language_info": {
      "name": "python"
    }
  },
  "cells": [
    {
      "cell_type": "markdown",
      "source": [
        "Import"
      ],
      "metadata": {
        "id": "z3xw-VEVaJ_v"
      }
    },
    {
      "cell_type": "code",
      "source": [
        "import tensorflow as tf\n",
        "from tensorflow import keras\n",
        "from keras import layers, models\n",
        "import numpy as np\n",
        "import matplotlib.pyplot as plt\n",
        "import pandas as pd\n",
        "import os\n",
        "import cv2"
      ],
      "metadata": {
        "id": "WRa6DATjaJlg"
      },
      "execution_count": 65,
      "outputs": []
    },
    {
      "cell_type": "code",
      "source": [
        "# Mount Google Drive\n",
        "from google.colab import drive\n",
        "drive.mount('/content/drive')\n",
        "image_folder = '/content/drive/MyDrive/all-images'"
      ],
      "metadata": {
        "colab": {
          "base_uri": "https://localhost:8080/"
        },
        "id": "NpBb_O8n0zae",
        "outputId": "441fd5f6-5214-4943-9586-b179dd8006a4"
      },
      "execution_count": 66,
      "outputs": [
        {
          "output_type": "stream",
          "name": "stdout",
          "text": [
            "Drive already mounted at /content/drive; to attempt to forcibly remount, call drive.mount(\"/content/drive\", force_remount=True).\n"
          ]
        }
      ]
    },
    {
      "cell_type": "markdown",
      "source": [
        "### Input and Output"
      ],
      "metadata": {
        "id": "LwX_wzK8aJEx"
      }
    },
    {
      "cell_type": "code",
      "source": [
        "data = pd.read_csv('/image-lightings.csv')"
      ],
      "metadata": {
        "id": "q9bDFdfpacZJ"
      },
      "execution_count": 67,
      "outputs": []
    },
    {
      "cell_type": "code",
      "source": [
        "training = data.to_numpy()\n",
        "print(training[0][1:3]) #testing - prints out row zero, columns 1 and 2\n",
        "print(\"\\n\", training.shape)"
      ],
      "metadata": {
        "colab": {
          "base_uri": "https://localhost:8080/"
        },
        "id": "g7ciH7HbomWt",
        "outputId": "3e45ec02-ce71-40a4-df13-18b12a5f5ea3"
      },
      "execution_count": 84,
      "outputs": [
        {
          "output_type": "stream",
          "name": "stdout",
          "text": [
            "['(1716, 1341, 3)' 0.4406199]\n",
            "\n",
            " (51, 7)\n"
          ]
        }
      ]
    },
    {
      "cell_type": "code",
      "source": [
        "training_filenames = training[:,0]\n",
        "training_labels = training[:, -1]"
      ],
      "metadata": {
        "id": "HgygkWh6qcoo"
      },
      "execution_count": 70,
      "outputs": []
    },
    {
      "cell_type": "code",
      "source": [
        "#list_images = os.listdir(image_folder) #iterates through each file in the drive folder\n",
        "\n",
        "# Load and resize images\n",
        "loaded_images = []\n",
        "for filename in training_filenames: # Load all training images\n",
        "    img_path = os.path.join(image_folder, filename)\n",
        "    img = cv2.imread(img_path) # Load\n",
        "    img = cv2.resize(img, (28, 28)) # Resize to 28x28\n",
        "    loaded_images.append(img)\n",
        "\n",
        "# Convert loaded_images to a numpy array for consistent shape\n",
        "loaded_images = np.array(loaded_images)\n"
      ],
      "metadata": {
        "id": "4m0NluCK2NjK"
      },
      "execution_count": 85,
      "outputs": []
    },
    {
      "cell_type": "markdown",
      "source": [
        "### Creating the structure of the model"
      ],
      "metadata": {
        "id": "kh6fnTZKeRZh"
      }
    },
    {
      "cell_type": "code",
      "source": [
        "from tensorflow.keras.models import Sequential\n",
        "from tensorflow.keras.layers import Input, Dense, Flatten,Dropout"
      ],
      "metadata": {
        "id": "l_5vkdFmrQFF"
      },
      "execution_count": 72,
      "outputs": []
    },
    {
      "cell_type": "code",
      "source": [
        "model = models.Sequential([\n",
        "    layers.Input(shape=(28,28,3)), #3 --- 3 color channels\n",
        "    layers.Conv2D(32, (3, 3), activation='relu'), #Convolutional layer-- 32 filters, 3x3 size kernels\n",
        "    layers.MaxPooling2D(2, 2), #reducing spatial dimentions by returning the max value within 2x2 window\n",
        "    layers.Conv2D(64, (3, 3), activation='relu'),\n",
        "    layers.MaxPooling2D(2, 2),\n",
        "    layers.Flatten(), #flattens data into a one-d vector (necessary befor passing to dense layers)\n",
        "    layers.Dense(64, activation='relu'), #layer of 64 neurons\n",
        "    layers.Dropout(0.2), #20% of previous neurons >> 0 --- this prevents overfitting (loop of loss)\n",
        "    layers.Dense(3, activation='softmax')  # Softmax creates a probability distribution over the 3 output classes\n",
        "])\n"
      ],
      "metadata": {
        "id": "RRKIPE1o3FlP"
      },
      "execution_count": 73,
      "outputs": []
    },
    {
      "cell_type": "markdown",
      "source": [
        "### Testing Sparse Categorical Crossentropy:"
      ],
      "metadata": {
        "id": "YOHZhUIpdbtf"
      }
    },
    {
      "cell_type": "code",
      "source": [
        "def sparse_categorical_crossentropy():\n",
        "  # Convert string labels to numerical labels\n",
        "  tf.keras.optimizers.Adam(learning_rate=0.00001)\n",
        "\n",
        "  label_mapping = {label: i for i, label in enumerate(np.unique(training_labels))}\n",
        "  training_labels_numerical = np.array([label_mapping[label] for label in training_labels])\n",
        "\n",
        "  # Reshape images to include channel dimension\n",
        "  training_images_reshaped = np.zeros((len(training_filenames), 28, 28, 1))\n",
        "  for i in range(len(loaded_images)):\n",
        "    training_images_reshaped = np.array([img.reshape(28, 28, 1) for img in loaded_images])\n",
        "    training_images_reshaped = training_images_reshaped.astype('float32') / 255.0\n",
        "\n",
        "  loss=0\n",
        "\n",
        "  model.compile(optimizer='adam', #back-propagations\n",
        "                #loss functions(uses neg log likelihood)\n",
        "                loss='sparse_categorical_crossentropy',\n",
        "                metrics=['accuracy']) # num correct/ num images in set\n",
        "\n",
        "  history=model.fit(  #let it run for 30 run-throughs\n",
        "      training_images_reshaped,\n",
        "      training_labels_numerical,\n",
        "      epochs=20\n",
        "  )\n",
        "\n",
        "  lossArr2 = history.history['loss']\n",
        "  return lossArr2\n",
        "\n"
      ],
      "metadata": {
        "id": "OHOkU6XxHivv"
      },
      "execution_count": 74,
      "outputs": []
    },
    {
      "cell_type": "markdown",
      "source": [
        "### Function for Sparse Focal Loss --- used for unbalanced datasets to increase probability of choosing the outliers of the data"
      ],
      "metadata": {
        "id": "669AU8XIdnFX"
      }
    },
    {
      "cell_type": "code",
      "source": [
        "from tensorflow.keras import backend as K\n",
        "\n",
        "def sparse_focal_loss(gamma, alpha):\n",
        "    def loss(y_true, y_pred):\n",
        "        y_pred = tf.clip_by_value(y_pred, K.epsilon(), 1. - K.epsilon())\n",
        "        y_true = tf.cast(y_true, tf.int32)\n",
        "        y_true_one_hot = tf.one_hot(y_true, depth=tf.shape(y_pred)[-1])\n",
        "        cross_entropy = -y_true_one_hot * tf.math.log(y_pred)\n",
        "        focal_loss = alpha * tf.pow(1 - y_pred, gamma) * cross_entropy ###Focal losss formula\n",
        "        return tf.reduce_mean(tf.reduce_sum(focal_loss, axis=-1))\n",
        "    return loss"
      ],
      "metadata": {
        "id": "Ax1iftlrHB5w"
      },
      "execution_count": 75,
      "outputs": []
    },
    {
      "cell_type": "code",
      "source": [
        "def sparse_focal():\n",
        "  tf.keras.optimizers.Adam(learning_rate=0.00001) #reduce learning rate to prevent overstepping\n",
        "\n",
        "  label_mapping = {} #creating a dictionary of generated labels\n",
        "  for i, label in enumerate(np.unique(training_labels)):\n",
        "    label_mapping[label] = i\n",
        "\n",
        "  training_labels_numerical = np.array([label_mapping[label] for label in training_labels])\n",
        "\n",
        "  # Reshape images to include channel dimension\n",
        "  training_images_reshaped = np.zeros((len(training_filenames), 28, 28, 3))\n",
        "  for i in range(len(loaded_images)):\n",
        "    training_images_reshaped = np.array([img.reshape(28, 28, 3) for img in loaded_images])\n",
        "    training_images_reshaped = training_images_reshaped.astype('float32') / 255.0\n",
        "\n",
        "  loss=0\n",
        "\n",
        "  model.compile(optimizer='adam', #back-propagations\n",
        "                loss=sparse_focal_loss(gamma=3, alpha=0.25),\n",
        "                metrics=['accuracy']) # num correct/ num images in set\n",
        "  history=model.fit(  #let it run for 30 run-throughs\n",
        "        training_images_reshaped,\n",
        "        training_labels_numerical,\n",
        "        epochs=30\n",
        "    )\n",
        "\n",
        "  lossArr = history.history['loss']\n",
        "  return lossArr #returns an array of losses to be graphed"
      ],
      "metadata": {
        "id": "GQKeug6WX2SI"
      },
      "execution_count": 80,
      "outputs": []
    },
    {
      "cell_type": "markdown",
      "source": [
        "### Graphing the Loss Curves"
      ],
      "metadata": {
        "id": "XlG9cSD2d6hR"
      }
    },
    {
      "cell_type": "code",
      "source": [
        "array1 = sparse_focal()\n",
        "#array2 = sparse_categorical_crossentropy)\n",
        "x = np.linspace(0, len(array1), len(array1))\n",
        "plt.plot(x, array1, color='g', label=\"Focal Loss\")\n",
        "#plt.plot(x, array2, color='r',label=\"Categorical Cross-entropy Loss\")\n",
        "plt.title('Loss vs Epochs')\n",
        "plt.xlabel('Epochs')\n",
        "plt.ylabel('Loss')\n",
        "plt.legend()\n"
      ],
      "metadata": {
        "colab": {
          "base_uri": "https://localhost:8080/",
          "height": 1000
        },
        "id": "uvjckM7g_vzD",
        "outputId": "1f8f2e64-590d-417f-e6ad-b4a4d9efdd4f"
      },
      "execution_count": 81,
      "outputs": [
        {
          "output_type": "stream",
          "name": "stdout",
          "text": [
            "Epoch 1/30\n",
            "\u001b[1m2/2\u001b[0m \u001b[32m━━━━━━━━━━━━━━━━━━━━\u001b[0m\u001b[37m\u001b[0m \u001b[1m2s\u001b[0m 32ms/step - accuracy: 0.2938 - loss: 0.0833\n",
            "Epoch 2/30\n",
            "\u001b[1m2/2\u001b[0m \u001b[32m━━━━━━━━━━━━━━━━━━━━\u001b[0m\u001b[37m\u001b[0m \u001b[1m0s\u001b[0m 31ms/step - accuracy: 0.4729 - loss: 0.0692 \n",
            "Epoch 3/30\n",
            "\u001b[1m2/2\u001b[0m \u001b[32m━━━━━━━━━━━━━━━━━━━━\u001b[0m\u001b[37m\u001b[0m \u001b[1m0s\u001b[0m 35ms/step - accuracy: 0.4021 - loss: 0.0682 \n",
            "Epoch 4/30\n",
            "\u001b[1m2/2\u001b[0m \u001b[32m━━━━━━━━━━━━━━━━━━━━\u001b[0m\u001b[37m\u001b[0m \u001b[1m0s\u001b[0m 31ms/step - accuracy: 0.5333 - loss: 0.0642 \n",
            "Epoch 5/30\n",
            "\u001b[1m2/2\u001b[0m \u001b[32m━━━━━━━━━━━━━━━━━━━━\u001b[0m\u001b[37m\u001b[0m \u001b[1m0s\u001b[0m 45ms/step - accuracy: 0.5771 - loss: 0.0587 \n",
            "Epoch 6/30\n",
            "\u001b[1m2/2\u001b[0m \u001b[32m━━━━━━━━━━━━━━━━━━━━\u001b[0m\u001b[37m\u001b[0m \u001b[1m0s\u001b[0m 47ms/step - accuracy: 0.6896 - loss: 0.0554 \n",
            "Epoch 7/30\n",
            "\u001b[1m2/2\u001b[0m \u001b[32m━━━━━━━━━━━━━━━━━━━━\u001b[0m\u001b[37m\u001b[0m \u001b[1m0s\u001b[0m 51ms/step - accuracy: 0.6521 - loss: 0.0471 \n",
            "Epoch 8/30\n",
            "\u001b[1m2/2\u001b[0m \u001b[32m━━━━━━━━━━━━━━━━━━━━\u001b[0m\u001b[37m\u001b[0m \u001b[1m0s\u001b[0m 45ms/step - accuracy: 0.6854 - loss: 0.0486\n",
            "Epoch 9/30\n",
            "\u001b[1m2/2\u001b[0m \u001b[32m━━━━━━━━━━━━━━━━━━━━\u001b[0m\u001b[37m\u001b[0m \u001b[1m0s\u001b[0m 45ms/step - accuracy: 0.7667 - loss: 0.0416\n",
            "Epoch 10/30\n",
            "\u001b[1m2/2\u001b[0m \u001b[32m━━━━━━━━━━━━━━━━━━━━\u001b[0m\u001b[37m\u001b[0m \u001b[1m0s\u001b[0m 45ms/step - accuracy: 0.8917 - loss: 0.0329\n",
            "Epoch 11/30\n",
            "\u001b[1m2/2\u001b[0m \u001b[32m━━━━━━━━━━━━━━━━━━━━\u001b[0m\u001b[37m\u001b[0m \u001b[1m0s\u001b[0m 49ms/step - accuracy: 0.7396 - loss: 0.0337\n",
            "Epoch 12/30\n",
            "\u001b[1m2/2\u001b[0m \u001b[32m━━━━━━━━━━━━━━━━━━━━\u001b[0m\u001b[37m\u001b[0m \u001b[1m0s\u001b[0m 47ms/step - accuracy: 0.8313 - loss: 0.0264\n",
            "Epoch 13/30\n",
            "\u001b[1m2/2\u001b[0m \u001b[32m━━━━━━━━━━━━━━━━━━━━\u001b[0m\u001b[37m\u001b[0m \u001b[1m0s\u001b[0m 47ms/step - accuracy: 0.9458 - loss: 0.0214\n",
            "Epoch 14/30\n",
            "\u001b[1m2/2\u001b[0m \u001b[32m━━━━━━━━━━━━━━━━━━━━\u001b[0m\u001b[37m\u001b[0m \u001b[1m0s\u001b[0m 60ms/step - accuracy: 0.8104 - loss: 0.0485\n",
            "Epoch 15/30\n",
            "\u001b[1m2/2\u001b[0m \u001b[32m━━━━━━━━━━━━━━━━━━━━\u001b[0m\u001b[37m\u001b[0m \u001b[1m0s\u001b[0m 48ms/step - accuracy: 0.8750 - loss: 0.0225 \n",
            "Epoch 16/30\n",
            "\u001b[1m2/2\u001b[0m \u001b[32m━━━━━━━━━━━━━━━━━━━━\u001b[0m\u001b[37m\u001b[0m \u001b[1m0s\u001b[0m 47ms/step - accuracy: 0.8104 - loss: 0.0204 \n",
            "Epoch 17/30\n",
            "\u001b[1m2/2\u001b[0m \u001b[32m━━━━━━━━━━━━━━━━━━━━\u001b[0m\u001b[37m\u001b[0m \u001b[1m0s\u001b[0m 47ms/step - accuracy: 0.9187 - loss: 0.0141\n",
            "Epoch 18/30\n",
            "\u001b[1m2/2\u001b[0m \u001b[32m━━━━━━━━━━━━━━━━━━━━\u001b[0m\u001b[37m\u001b[0m \u001b[1m0s\u001b[0m 48ms/step - accuracy: 0.8917 - loss: 0.0124\n",
            "Epoch 19/30\n",
            "\u001b[1m2/2\u001b[0m \u001b[32m━━━━━━━━━━━━━━━━━━━━\u001b[0m\u001b[37m\u001b[0m \u001b[1m0s\u001b[0m 50ms/step - accuracy: 0.8646 - loss: 0.0134\n",
            "Epoch 20/30\n",
            "\u001b[1m2/2\u001b[0m \u001b[32m━━━━━━━━━━━━━━━━━━━━\u001b[0m\u001b[37m\u001b[0m \u001b[1m0s\u001b[0m 49ms/step - accuracy: 0.8313 - loss: 0.0146\n",
            "Epoch 21/30\n",
            "\u001b[1m2/2\u001b[0m \u001b[32m━━━━━━━━━━━━━━━━━━━━\u001b[0m\u001b[37m\u001b[0m \u001b[1m0s\u001b[0m 53ms/step - accuracy: 0.9292 - loss: 0.0133\n",
            "Epoch 22/30\n",
            "\u001b[1m2/2\u001b[0m \u001b[32m━━━━━━━━━━━━━━━━━━━━\u001b[0m\u001b[37m\u001b[0m \u001b[1m0s\u001b[0m 49ms/step - accuracy: 0.9729 - loss: 0.0091\n",
            "Epoch 23/30\n",
            "\u001b[1m2/2\u001b[0m \u001b[32m━━━━━━━━━━━━━━━━━━━━\u001b[0m\u001b[37m\u001b[0m \u001b[1m0s\u001b[0m 44ms/step - accuracy: 0.9458 - loss: 0.0090\n",
            "Epoch 24/30\n",
            "\u001b[1m2/2\u001b[0m \u001b[32m━━━━━━━━━━━━━━━━━━━━\u001b[0m\u001b[37m\u001b[0m \u001b[1m0s\u001b[0m 46ms/step - accuracy: 0.9833 - loss: 0.0059\n",
            "Epoch 25/30\n",
            "\u001b[1m2/2\u001b[0m \u001b[32m━━━━━━━━━━━━━━━━━━━━\u001b[0m\u001b[37m\u001b[0m \u001b[1m0s\u001b[0m 45ms/step - accuracy: 0.9563 - loss: 0.0083\n",
            "Epoch 26/30\n",
            "\u001b[1m2/2\u001b[0m \u001b[32m━━━━━━━━━━━━━━━━━━━━\u001b[0m\u001b[37m\u001b[0m \u001b[1m0s\u001b[0m 46ms/step - accuracy: 0.8646 - loss: 0.0129\n",
            "Epoch 27/30\n",
            "\u001b[1m2/2\u001b[0m \u001b[32m━━━━━━━━━━━━━━━━━━━━\u001b[0m\u001b[37m\u001b[0m \u001b[1m0s\u001b[0m 48ms/step - accuracy: 0.9458 - loss: 0.0079\n",
            "Epoch 28/30\n",
            "\u001b[1m2/2\u001b[0m \u001b[32m━━━━━━━━━━━━━━━━━━━━\u001b[0m\u001b[37m\u001b[0m \u001b[1m0s\u001b[0m 55ms/step - accuracy: 0.9187 - loss: 0.0084\n",
            "Epoch 29/30\n",
            "\u001b[1m2/2\u001b[0m \u001b[32m━━━━━━━━━━━━━━━━━━━━\u001b[0m\u001b[37m\u001b[0m \u001b[1m0s\u001b[0m 51ms/step - accuracy: 0.9563 - loss: 0.0066\n",
            "Epoch 30/30\n",
            "\u001b[1m2/2\u001b[0m \u001b[32m━━━━━━━━━━━━━━━━━━━━\u001b[0m\u001b[37m\u001b[0m \u001b[1m0s\u001b[0m 55ms/step - accuracy: 0.9729 - loss: 0.0047\n"
          ]
        },
        {
          "output_type": "execute_result",
          "data": {
            "text/plain": [
              "<matplotlib.legend.Legend at 0x7f994d6150d0>"
            ]
          },
          "metadata": {},
          "execution_count": 81
        },
        {
          "output_type": "display_data",
          "data": {
            "text/plain": [
              "<Figure size 640x480 with 1 Axes>"
            ],
            "image/png": "[encoded data removed]"
          },
          "metadata": {}
        }
      ]
    }
  ]
}