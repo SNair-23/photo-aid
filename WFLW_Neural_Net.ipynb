{
  "cells": [
    {
      "cell_type": "code",
      "execution_count": 72,
      "metadata": {},
      "outputs": [],
      "source": [
        "import tensorflow as tf\n",
        "import keras\n",
        "from keras import layers, models\n",
        "import numpy as np\n",
        "import matplotlib.pyplot as plt\n",
        "import pandas as pd\n",
        "import os\n",
        "import cv2\n",
        "import ast\n",
        "import sklearn\n",
        "from sklearn.utils import class_weight\n",
        "\n",
        "from keras import mixed_precision\n",
        "mixed_precision.set_global_policy('mixed_float16')\n",
        "\n"
      ]
    },
    {
      "cell_type": "code",
      "execution_count": 73,
      "metadata": {
        "id": "u2-7NlZUmz7O"
      },
      "outputs": [],
      "source": [
        "#CONSTANTS\n",
        "tar_path = \"/home/shriya/VS-Code-Python/WFLW_images.tar.gz\"\n",
        "extract_path = \"/home/shriya/VS-Code-Python/WFLW_images\"\n",
        "csv_path = \"/home/shriya/VS-Code-Python/saving.csv\"\n"
      ]
    },
    {
      "cell_type": "code",
      "execution_count": 74,
      "metadata": {
        "id": "ZkivrMZ9_gIK"
      },
      "outputs": [],
      "source": [
        "\"\"\"Extracts annotations from a .tar.gz file into a separate path\"\"\"\n",
        "def extract_tar(tar_path, extract_path):\n",
        "  import tarfile\n",
        "  import os\n",
        "\n",
        "    # Ensure the extraction directory exists\n",
        "  os.makedirs(extract_path, exist_ok=True)\n",
        "\n",
        "  with tarfile.open(tar_path, \"r:gz\") as tar:\n",
        "      # Extract all contents to the specified path\n",
        "      tar.extractall(path=extract_path)\n",
        "  print(f\"Extracted contents to: {extract_path}\")\n",
        "  image_dir = os.path.join(extract_path, \"WFLW_images\")\n",
        "  if not os.path.exists(image_dir):\n",
        "      raise FileNotFoundError(f\"Image directory not found: {image_dir}\")\n",
        "  print(f\"Image directory: {image_dir}\")\n",
        "  return image_dir"
      ]
    },
    {
      "cell_type": "code",
      "execution_count": 75,
      "metadata": {
        "id": "57QwlcDMBIj8"
      },
      "outputs": [],
      "source": [
        "def read_csv():\n",
        "  csv_data = pd.read_csv(csv_path)\n",
        "  return csv_data\n",
        "\n",
        "def split_data(attribute):\n",
        "  csv_data = read_csv()\n",
        "  from sklearn.model_selection import train_test_split\n",
        "  import pandas as pd\n",
        "  X = csv_data['file_name']\n",
        "  y = csv_data[attribute]\n",
        "  X_first, X_second, y_first, y_second = train_test_split(X, y, test_size=0.5, stratify=y, random_state=42)\n",
        "  print(y.head())\n",
        "  print(\"\\nSplitting data into two sets based on the attribute:\", attribute)\n",
        "  print(\"Original dataset distribution:\\n\", y.value_counts(normalize=True))\n",
        "  print(\"\\n1st set distribution:\\n\", y_first.value_counts(normalize=True))\n",
        "  print(\"\\n2nd set distribution:\\n\", y_second.value_counts(normalize=True))\n",
        "  return X_first, y_first, X_second, y_second\n",
        "#returns series of file names and labels for a split set based on the specified attribute"
      ]
    },
    {
      "cell_type": "code",
      "execution_count": 76,
      "metadata": {},
      "outputs": [
        {
          "data": {
            "text/plain": [
              "'Testing: \\nprint(1/(1727/(1727+773))) #doing it manually to check if function works\\nprint(1/(773/(1727+773)))'"
            ]
          },
          "execution_count": 76,
          "metadata": {},
          "output_type": "execute_result"
        }
      ],
      "source": [
        "from sklearn.utils.class_weight import compute_class_weight\n",
        "\n",
        "def get_class_weights(labels):\n",
        "    classes = np.unique(labels)\n",
        "    weights = compute_class_weight(class_weight='balanced', classes=classes, y=labels)\n",
        "    return dict(zip(classes, weights))\n",
        "\n",
        "\"\"\"Testing: \n",
        "print(1/(1727/(1727+773))) #doing it manually to check if function works\n",
        "print(1/(773/(1727+773)))\"\"\"\n",
        "\n"
      ]
    },
    {
      "cell_type": "markdown",
      "metadata": {
        "id": "iLzCLNR-WcDR"
      },
      "source": [
        "I will likely have to separate the training and the testing images from each other based on the annotations I have! Also--- keep in mind that the photos are within folders and that the filenames map to the folder and the filename (for future tracing)"
      ]
    },
    {
      "cell_type": "code",
      "execution_count": 77,
      "metadata": {
        "colab": {
          "base_uri": "https://localhost:8080/"
        },
        "id": "0q5jraYVWJiW",
        "outputId": "f62c9bb2-c1fa-44a6-9486-e44f3201b489"
      },
      "outputs": [
        {
          "name": "stderr",
          "output_type": "stream",
          "text": [
            "/home/shriya/VS-Code-Python/.venv/lib/python3.12/site-packages/keras/src/layers/preprocessing/tf_data_layer.py:19: UserWarning: Do not pass an `input_shape`/`input_dim` argument to a layer. When using Sequential models, prefer using an `Input(shape)` object as the first layer in the model instead.\n",
            "  super().__init__(**kwargs)\n"
          ]
        },
        {
          "data": {
            "text/plain": [
              "<PrecisionAtRecall name=precision_at_recall_8>"
            ]
          },
          "execution_count": 77,
          "metadata": {},
          "output_type": "execute_result"
        }
      ],
      "source": [
        "from tensorflow.keras.models import Sequential\n",
        "from tensorflow.keras.layers import Input, Dense, Flatten,Dropout\n",
        "\n",
        "model = tf.keras.Sequential([\n",
        "     tf.keras.layers.Rescaling(1./255, input_shape=(96, 96, 3)),\n",
        "\n",
        "    # First depthwise conv block\n",
        "    tf.keras.layers.DepthwiseConv2D((3, 3), depth_multiplier=1, activation='relu', padding='same'),\n",
        "    tf.keras.layers.MaxPooling2D(2, 2),\n",
        "\n",
        "    # Pointwise conv to increase channels\n",
        "    tf.keras.layers.DepthwiseConv2D((3, 3), depth_multiplier=1, activation='relu', padding='same'),\n",
        "    tf.keras.layers.MaxPooling2D(2, 2),\n",
        "\n",
        "    tf.keras.layers.Conv2D(64, (1, 1), activation='relu', padding='same'),\n",
        "    tf.keras.layers.DepthwiseConv2D((3, 3), depth_multiplier=1, activation='relu', padding='same'),\n",
        "    tf.keras.layers.MaxPooling2D(2, 2),\n",
        "\n",
        "    tf.keras.layers.Flatten(),\n",
        "    tf.keras.layers.Dense(64, activation='relu'),\n",
        "    tf.keras.layers.Dropout(0.5),\n",
        "\n",
        "    tf.keras.layers.Dense(1, activation='sigmoid')  # Binary classification\n",
        "  ])\n",
        "\n",
        "tf.keras.metrics.PrecisionAtRecall(\n",
        "  0.3, num_thresholds=200, class_id=None, name=None, dtype=None)\n",
        "  \n"
      ]
    },
    {
      "cell_type": "code",
      "execution_count": 78,
      "metadata": {},
      "outputs": [],
      "source": [
        "def load_images(filenames, image_dir=\"/content/WFLW_images/WFLW_images\"):\n",
        "  loaded_images = []\n",
        "  for i in range(len(filenames)):\n",
        "    img_path = filenames[i] #creates a path using the folder(drive) and the filename as found in the csv\n",
        "    img_path = image_dir + \"/\" + img_path\n",
        "    if os.path.exists(img_path): # Check if the file exists\n",
        "      img = cv2.imread(img_path)\n",
        "      img = cv2.resize(img, (96, 96))\n",
        "      img = cv2.cvtColor(img, cv2.COLOR_BGR2RGB)\n",
        "      if img is not None:\n",
        "        loaded_images.append(img)\n",
        "      else:\n",
        "        print(f\"Image not found: {img_path}\")\n",
        "        loaded_images.append(None)\n",
        "\n",
        "  return loaded_images\n",
        "\n"
      ]
    },
    {
      "cell_type": "code",
      "execution_count": 81,
      "metadata": {},
      "outputs": [],
      "source": [
        "def make_binary_NN(filename1, label1, filename2, label2, image_dir, attribute):\n",
        "    tf.keras.optimizers.Adam(learning_rate=0.0025)\n",
        "    loaded_images1 = load_images(filename1.tolist(), image_dir)\n",
        "    loaded_images2 = load_images(filename2.tolist(), image_dir)\n",
        "    # Filter csv_data to include only rows for which images were successfully loaded\n",
        "    # Assuming loaded_images were added in the same order as csv_data was iterated\n",
        "    # A more robust approach would involve matching file names\n",
        "    valid_indices1 = [i for i, img in enumerate(loaded_images1) if img is not None]\n",
        "    filtered_labels1 = label1.iloc[valid_indices1].reset_index(drop=True)\n",
        "    valid_indices2 = [i for i, img in enumerate(loaded_images2) if img is not None]\n",
        "    filtered_labels2 = label2.iloc[valid_indices2].reset_index(drop=True)\n",
        "\n",
        "     # Convert labels to a numerical format (e.g., integers)\n",
        "    training_labels1 = filtered_labels1.to_numpy().astype(int)\n",
        "    training_labels2 = filtered_labels2.to_numpy().astype(int)\n",
        "\n",
        "    # Convert the list of images to a NumPy array\n",
        "    training_images_array1 = np.array([img for img in loaded_images1 if img is not None])\n",
        "    training_images_array2 = np.array([img for img in loaded_images2 if img is not None])\n",
        "\n",
        "\n",
        "    model.compile(\n",
        "        optimizer='adam',\n",
        "        loss='binary_crossentropy',\n",
        "        metrics=['accuracy', 'precision', 'recall', tf.keras.metrics.PrecisionAtRecall(0.5)]\n",
        "    )\n",
        "\n",
        "    # Train on first split\n",
        "    history1 = model.fit(\n",
        "        training_images_array1,\n",
        "        training_labels1,\n",
        "        batch_size=50,\n",
        "        epochs=10,\n",
        "        class_weight=get_class_weights(training_labels1)\n",
        "    )\n",
        "\n",
        "    # Fine-tune on second split\n",
        "    history2 = model.fit(\n",
        "        training_images_array2,\n",
        "        training_labels2,\n",
        "        batch_size=25,\n",
        "        epochs=10,\n",
        "        class_weight=get_class_weights(training_labels2))\n",
        "    return history1.history['recall'], history1.history['precision'], history2.history['recall'], history2.history['precision']  # Return recall values for both training sets\n",
        "\n",
        "\n"
      ]
    },
    {
      "cell_type": "code",
      "execution_count": 82,
      "metadata": {
        "colab": {
          "base_uri": "https://localhost:8080/",
          "height": 799
        },
        "id": "pIlo6jPE9QLV",
        "outputId": "c3fa0ecc-4b01-4f78-e8bc-e47047911191"
      },
      "outputs": [
        {
          "name": "stdout",
          "output_type": "stream",
          "text": [
            "Extracted contents to: /home/shriya/VS-Code-Python/WFLW_images\n",
            "Image directory: /home/shriya/VS-Code-Python/WFLW_images/WFLW_images\n",
            "0    0\n",
            "1    0\n",
            "2    0\n",
            "3    0\n",
            "4    0\n",
            "Name: blur, dtype: int64\n",
            "\n",
            "Splitting data into two sets based on the attribute: blur\n",
            "Original dataset distribution:\n",
            " blur\n",
            "0    0.6908\n",
            "1    0.3092\n",
            "Name: proportion, dtype: float64\n",
            "\n",
            "1st set distribution:\n",
            " blur\n",
            "0    0.6912\n",
            "1    0.3088\n",
            "Name: proportion, dtype: float64\n",
            "\n",
            "2nd set distribution:\n",
            " blur\n",
            "0    0.6904\n",
            "1    0.3096\n",
            "Name: proportion, dtype: float64\n",
            "Epoch 1/10\n",
            "\u001b[1m25/25\u001b[0m \u001b[32m━━━━━━━━━━━━━━━━━━━━\u001b[0m\u001b[37m\u001b[0m \u001b[1m7s\u001b[0m 222ms/step - accuracy: 0.6721 - loss: 0.6271 - precision: 0.4674 - precision_at_recall_10: 0.5001 - recall: 0.5154\n",
            "Epoch 2/10\n",
            "\u001b[1m25/25\u001b[0m \u001b[32m━━━━━━━━━━━━━━━━━━━━\u001b[0m\u001b[37m\u001b[0m \u001b[1m6s\u001b[0m 256ms/step - accuracy: 0.6552 - loss: 0.6190 - precision: 0.4548 - precision_at_recall_10: 0.5128 - recall: 0.6615\n",
            "Epoch 3/10\n",
            "\u001b[1m25/25\u001b[0m \u001b[32m━━━━━━━━━━━━━━━━━━━━\u001b[0m\u001b[37m\u001b[0m \u001b[1m9s\u001b[0m 340ms/step - accuracy: 0.6970 - loss: 0.5965 - precision: 0.5203 - precision_at_recall_10: 0.5925 - recall: 0.6103\n",
            "Epoch 4/10\n",
            "\u001b[1m25/25\u001b[0m \u001b[32m━━━━━━━━━━━━━━━━━━━━\u001b[0m\u001b[37m\u001b[0m \u001b[1m8s\u001b[0m 335ms/step - accuracy: 0.7062 - loss: 0.6001 - precision: 0.5315 - precision_at_recall_10: 0.6038 - recall: 0.6001\n",
            "Epoch 5/10\n",
            "\u001b[1m25/25\u001b[0m \u001b[32m━━━━━━━━━━━━━━━━━━━━\u001b[0m\u001b[37m\u001b[0m \u001b[1m8s\u001b[0m 329ms/step - accuracy: 0.7307 - loss: 0.5462 - precision: 0.5483 - precision_at_recall_10: 0.6821 - recall: 0.7027\n",
            "Epoch 6/10\n",
            "\u001b[1m25/25\u001b[0m \u001b[32m━━━━━━━━━━━━━━━━━━━━\u001b[0m\u001b[37m\u001b[0m \u001b[1m8s\u001b[0m 326ms/step - accuracy: 0.7158 - loss: 0.5469 - precision: 0.5450 - precision_at_recall_10: 0.7382 - recall: 0.6980\n",
            "Epoch 7/10\n",
            "\u001b[1m25/25\u001b[0m \u001b[32m━━━━━━━━━━━━━━━━━━━━\u001b[0m\u001b[37m\u001b[0m \u001b[1m9s\u001b[0m 341ms/step - accuracy: 0.7312 - loss: 0.5195 - precision: 0.5497 - precision_at_recall_10: 0.7751 - recall: 0.7193\n",
            "Epoch 8/10\n",
            "\u001b[1m25/25\u001b[0m \u001b[32m━━━━━━━━━━━━━━━━━━━━\u001b[0m\u001b[37m\u001b[0m \u001b[1m8s\u001b[0m 338ms/step - accuracy: 0.7709 - loss: 0.5126 - precision: 0.6180 - precision_at_recall_10: 0.8005 - recall: 0.7170\n",
            "Epoch 9/10\n",
            "\u001b[1m25/25\u001b[0m \u001b[32m━━━━━━━━━━━━━━━━━━━━\u001b[0m\u001b[37m\u001b[0m \u001b[1m8s\u001b[0m 337ms/step - accuracy: 0.7604 - loss: 0.5207 - precision: 0.5910 - precision_at_recall_10: 0.7487 - recall: 0.6963\n",
            "Epoch 10/10\n",
            "\u001b[1m25/25\u001b[0m \u001b[32m━━━━━━━━━━━━━━━━━━━━\u001b[0m\u001b[37m\u001b[0m \u001b[1m9s\u001b[0m 361ms/step - accuracy: 0.7978 - loss: 0.4695 - precision: 0.6363 - precision_at_recall_10: 0.8526 - recall: 0.8357\n",
            "Epoch 1/10\n",
            "\u001b[1m50/50\u001b[0m \u001b[32m━━━━━━━━━━━━━━━━━━━━\u001b[0m\u001b[37m\u001b[0m \u001b[1m11s\u001b[0m 188ms/step - accuracy: 0.7490 - loss: 0.5196 - precision: 0.5540 - precision_at_recall_10: 0.7239 - recall: 0.6363\n",
            "Epoch 2/10\n",
            "\u001b[1m50/50\u001b[0m \u001b[32m━━━━━━━━━━━━━━━━━━━━\u001b[0m\u001b[37m\u001b[0m \u001b[1m10s\u001b[0m 196ms/step - accuracy: 0.7788 - loss: 0.5014 - precision: 0.6466 - precision_at_recall_10: 0.7898 - recall: 0.6328\n",
            "Epoch 3/10\n",
            "\u001b[1m50/50\u001b[0m \u001b[32m━━━━━━━━━━━━━━━━━━━━\u001b[0m\u001b[37m\u001b[0m \u001b[1m9s\u001b[0m 190ms/step - accuracy: 0.8159 - loss: 0.4425 - precision: 0.6852 - precision_at_recall_10: 0.8587 - recall: 0.7790\n",
            "Epoch 4/10\n",
            "\u001b[1m50/50\u001b[0m \u001b[32m━━━━━━━━━━━━━━━━━━━━\u001b[0m\u001b[37m\u001b[0m \u001b[1m9s\u001b[0m 187ms/step - accuracy: 0.8243 - loss: 0.4154 - precision: 0.6749 - precision_at_recall_10: 0.8924 - recall: 0.7807\n",
            "Epoch 5/10\n",
            "\u001b[1m50/50\u001b[0m \u001b[32m━━━━━━━━━━━━━━━━━━━━\u001b[0m\u001b[37m\u001b[0m \u001b[1m9s\u001b[0m 189ms/step - accuracy: 0.8266 - loss: 0.3943 - precision: 0.6838 - precision_at_recall_10: 0.8935 - recall: 0.7981\n",
            "Epoch 6/10\n",
            "\u001b[1m50/50\u001b[0m \u001b[32m━━━━━━━━━━━━━━━━━━━━\u001b[0m\u001b[37m\u001b[0m \u001b[1m9s\u001b[0m 185ms/step - accuracy: 0.8477 - loss: 0.3622 - precision: 0.7317 - precision_at_recall_10: 0.9574 - recall: 0.8121\n",
            "Epoch 7/10\n",
            "\u001b[1m50/50\u001b[0m \u001b[32m━━━━━━━━━━━━━━━━━━━━\u001b[0m\u001b[37m\u001b[0m \u001b[1m9s\u001b[0m 183ms/step - accuracy: 0.8856 - loss: 0.3093 - precision: 0.7909 - precision_at_recall_10: 0.9763 - recall: 0.8616\n",
            "Epoch 8/10\n",
            "\u001b[1m50/50\u001b[0m \u001b[32m━━━━━━━━━━━━━━━━━━━━\u001b[0m\u001b[37m\u001b[0m \u001b[1m9s\u001b[0m 190ms/step - accuracy: 0.8807 - loss: 0.3100 - precision: 0.7598 - precision_at_recall_10: 0.9717 - recall: 0.8501\n",
            "Epoch 9/10\n",
            "\u001b[1m50/50\u001b[0m \u001b[32m━━━━━━━━━━━━━━━━━━━━\u001b[0m\u001b[37m\u001b[0m \u001b[1m10s\u001b[0m 207ms/step - accuracy: 0.8976 - loss: 0.3090 - precision: 0.8353 - precision_at_recall_10: 0.9913 - recall: 0.8575\n",
            "Epoch 10/10\n",
            "\u001b[1m50/50\u001b[0m \u001b[32m━━━━━━━━━━━━━━━━━━━━\u001b[0m\u001b[37m\u001b[0m \u001b[1m10s\u001b[0m 202ms/step - accuracy: 0.8871 - loss: 0.2888 - precision: 0.8042 - precision_at_recall_10: 0.9924 - recall: 0.8151\n",
            "Function took 189.51 seconds\n"
          ]
        },
        {
          "data": {
            "image/png": "[encoded data removed]",
            "text/plain": [
              "<Figure size 640x480 with 1 Axes>"
            ]
          },
          "metadata": {},
          "output_type": "display_data"
        }
      ],
      "source": [
        "import matplotlib.pyplot as plt\n",
        "import numpy as np\n",
        "image_dir = extract_tar(tar_path, extract_path)\n",
        "csv_data = read_csv()\n",
        "X_first, y_first, X_second, y_second =split_data('blur')\n",
        "import time\n",
        "start_time = time.time()\n",
        "x1,y1,x2,y2 = make_binary_NN(X_first, y_first, X_second, y_second, image_dir, 'blur')\n",
        "end_time = time.time()\n",
        "print(f\"Function took {end_time - start_time:.2f} seconds\")\n",
        "\n",
        "plt.plot(x1, y1, label='Training Set 1')\n",
        "plt.plot(x2, y2, label='Training Set 2')\n",
        "plt.xlabel('Recall')\n",
        "plt.ylabel('Precision')\n",
        "plt.title('Precision Recall Curve using DepthwiseConv2D')\n",
        "plt.legend()\n",
        "plt.show()\n"
      ]
    }
  ],
  "metadata": {
    "colab": {
      "provenance": []
    },
    "kernelspec": {
      "display_name": ".venv",
      "language": "python",
      "name": "python3"
    },
    "language_info": {
      "codemirror_mode": {
        "name": "ipython",
        "version": 3
      },
      "file_extension": ".py",
      "mimetype": "text/x-python",
      "name": "python",
      "nbconvert_exporter": "python",
      "pygments_lexer": "ipython3",
      "version": "3.12.3"
    }
  },
  "nbformat": 4,
  "nbformat_minor": 0
}
